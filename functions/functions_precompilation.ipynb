{
 "cells": [
  {
   "cell_type": "markdown",
   "metadata": {},
   "source": [
    "# Circuit Precompiling\n",
    "---\n",
    "### Basic Information\n",
    "**Description:** This script conducts the circuit precompilation using `qiskit.transpile`."
   ]
  },
  {
   "cell_type": "code",
   "execution_count": 9,
   "metadata": {},
   "outputs": [],
   "source": [
    "from qiskit import QuantumCircuit, transpile\n",
    "from qiskit.transpiler import CouplingMap\n",
    "\n",
    "cmap_default = CouplingMap().from_grid(5, 5)\n",
    "\n",
    "def precompile(circuit, cmap=cmap_default, seed=1000):\n",
    "    # this function uses the default circuit compilation function of qiskit for precompilation\n",
    "\n",
    "    # precompile the circuit\n",
    "    compiled_circuit = transpile(circuit, coupling_map=cmap, seed_transpiler=seed)\n",
    "\n",
    "    # remove the deactivated qubits from the compiled circuit\n",
    "    file = open(\"data/reduced_circuit.qasm\", \"w\")\n",
    "    file.truncate(0) # make the file empty\n",
    "    qasm_string = \"\"\n",
    "\n",
    "    # add head for the qasm file\n",
    "    qasm_string += 'OPENQASM 2.0;\\n'\n",
    "    qasm_string += 'include \"qelib1.inc\";\\n'\n",
    "    qasm_string += f'qreg q[{circuit.num_qubits}];\\n'\n",
    "\n",
    "    for item in compiled_circuit.data:\n",
    "        gate_type = item[0].name\n",
    "        gate_size = len(item[1])\n",
    "        logical_qubit_indices = []\n",
    "        for qubit in item[1]:\n",
    "            physical_qubit_index = qubit.index\n",
    "            logical_qubit_index = compiled_circuit.layout.initial_layout[physical_qubit_index].index\n",
    "            logical_qubit_indices.append(logical_qubit_index)\n",
    "        if gate_size == 1:\n",
    "            if len(item[0].params) == 3:\n",
    "                params = f'({item[0].params[0]}, {item[0].params[1]}, {item[0].params[2]})'\n",
    "            elif any(item[0].params) == False:\n",
    "                params = ''\n",
    "            else:\n",
    "                message = 'Unsupported single-qubit gate exists. This code only supports gates without parameters and single-qubit rotation.'\n",
    "                raise ValueError(message)\n",
    "\n",
    "            qasm_string += f'{gate_type}{params} q[{logical_qubit_indices[0]}];\\n'\n",
    "        if gate_size == 2:\n",
    "            qasm_string += f'{gate_type} q[{logical_qubit_indices[0]}], q[{logical_qubit_indices[1]}];\\n'\n",
    "\n",
    "    file.write(qasm_string)\n",
    "    file.close()\n",
    "\n",
    "    reduced_circuit = QuantumCircuit.from_qasm_file('data/reduced_circuit.qasm')\n",
    "\n",
    "    return reduced_circuit"
   ]
  }
 ],
 "metadata": {
  "kernelspec": {
   "display_name": "Qiskit_env",
   "language": "python",
   "name": "python3"
  },
  "language_info": {
   "codemirror_mode": {
    "name": "ipython",
    "version": 3
   },
   "file_extension": ".py",
   "mimetype": "text/x-python",
   "name": "python",
   "nbconvert_exporter": "python",
   "pygments_lexer": "ipython3",
   "version": "3.11.3"
  },
  "orig_nbformat": 4
 },
 "nbformat": 4,
 "nbformat_minor": 2
}
