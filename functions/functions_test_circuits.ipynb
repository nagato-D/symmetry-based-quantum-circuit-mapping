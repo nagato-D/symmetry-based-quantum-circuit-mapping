{
 "cells": [
  {
   "cell_type": "markdown",
   "metadata": {},
   "source": [
    "# Quantum Circuits for Benchmarking\n",
    "---\n",
    "### Basic Information\n",
    "**Description:** This script defines two test circuits, including the Deutsch-Jozsa circuit and the BV circuit, for benchmarking our symmetry-based subgraph matching (SBSM) algorithm."
   ]
  },
  {
   "cell_type": "code",
   "execution_count": 55,
   "metadata": {},
   "outputs": [],
   "source": [
    "# import necessary packages\n",
    "from qiskit import QuantumCircuit"
   ]
  },
  {
   "cell_type": "code",
   "execution_count": 56,
   "metadata": {},
   "outputs": [],
   "source": [
    "# Implementation of Deutsch-Jozsa algorithm in Qiskit\n",
    "\n",
    "# Define the Deutsch-Jozsa oracle for a balanced function\n",
    "def dj_oracle(n):\n",
    "    oracle_qc = QuantumCircuit(n + 1)\n",
    "    for qubit in range(n):\n",
    "        oracle_qc.cx(qubit, n)\n",
    "    return oracle_qc\n",
    "\n",
    "# Create the Deutsch-Jozsa algorithm circuit\n",
    "def deutsch_jozsa_algorithm(oracle, n):\n",
    "    # dj_circuit = QuantumCircuit(n + 1, n)\n",
    "    dj_circuit = QuantumCircuit(n + 1)\n",
    "    \n",
    "    dj_circuit.x(n)  # Initialize the ancilla qubit to |1>\n",
    "    dj_circuit.h(n)\n",
    "    \n",
    "    for qubit in range(n):\n",
    "        dj_circuit.h(qubit)\n",
    "    \n",
    "    dj_circuit = dj_circuit.compose(oracle)  # Add the oracle circuit\n",
    "    \n",
    "    for qubit in range(n):\n",
    "        dj_circuit.h(qubit)\n",
    "    \n",
    "    # dj_circuit.measure(range(n), range(n))\n",
    "    \n",
    "    return dj_circuit"
   ]
  }
 ],
 "metadata": {
  "kernelspec": {
   "display_name": "Qiskit_env",
   "language": "python",
   "name": "python3"
  },
  "language_info": {
   "codemirror_mode": {
    "name": "ipython",
    "version": 3
   },
   "file_extension": ".py",
   "mimetype": "text/x-python",
   "name": "python",
   "nbconvert_exporter": "python",
   "pygments_lexer": "ipython3",
   "version": "3.11.3"
  },
  "orig_nbformat": 4
 },
 "nbformat": 4,
 "nbformat_minor": 2
}
