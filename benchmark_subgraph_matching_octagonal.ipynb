{
 "cells": [
  {
   "cell_type": "markdown",
   "metadata": {},
   "source": [
    "# Benchmark of Symmetry-Based Subgraph Matching Algorithm\n",
    "---\n",
    "### Basic Information\n",
    "**Description:** This script benchmarks the runtime of a symmetry-based subgraph matching algorithm and compares its efficiency with common subgraph matching algorithms such as VF2 and VF2++. Particularly, we consider a target graph with an octagonal structure."
   ]
  },
  {
   "cell_type": "markdown",
   "metadata": {},
   "source": [
    "## Load Packages and Define Basic Functions"
   ]
  },
  {
   "cell_type": "code",
   "execution_count": 1,
   "metadata": {},
   "outputs": [],
   "source": [
    "# Load packages\n",
    "from rustworkx import *\n",
    "from rustworkx.visualization import mpl_draw\n",
    "\n",
    "from qiskit import QuantumCircuit\n",
    "from qiskit.converters import circuit_to_dag\n",
    "\n",
    "import networkx as nx\n",
    "import rustworkx as rx\n",
    "import rustworkx.generators\n",
    "import numpy as np\n",
    "import time\n",
    "\n",
    "%run functions/functions_set_graph.ipynb # import graph generator\n",
    "%run functions/functions_precompilation.ipynb # import precompiling functions\n",
    "%run functions/functions_subgraph_matching.ipynb # import subgraph matching functions\n",
    "%run functions/functions_circuit_mapping.ipynb # import functions for circuit mapping\n",
    "%run functions/functions_test_circuits.ipynb # import the predefined circuits"
   ]
  },
  {
   "cell_type": "markdown",
   "metadata": {},
   "source": [
    "## Benchmark Runtime of Subgraph Matching Algorithms"
   ]
  },
  {
   "cell_type": "markdown",
   "metadata": {},
   "source": [
    "### Quantum Hardware Architecture: Octagonal"
   ]
  },
  {
   "cell_type": "code",
   "execution_count": null,
   "metadata": {},
   "outputs": [],
   "source": [
    "# set quantum circuit\n",
    "circuit_width = 5\n",
    "oracle = dj_oracle(circuit_width - 1)\n",
    "input_circ = deutsch_jozsa_algorithm(oracle, circuit_width - 1) # input circuit\n",
    "\n",
    "# define a reduced hardware coupling map for precompilation\n",
    "reduced_coupling_graph, node_dict, node_dict_reverse = set_octagonal_graph(5, 5)\n",
    "directional_edge_list = list(reduced_coupling_graph.edge_list())\n",
    "bidirectional_edge_list = []\n",
    "for edge in directional_edge_list:\n",
    "    bidirectional_edge_list.append((edge[0], edge[1]))\n",
    "    bidirectional_edge_list.append((edge[1], edge[0]))\n",
    "reduced_coupling_map = CouplingMap(bidirectional_edge_list)\n",
    "# reduced_coupling_map.draw()\n",
    "\n",
    "# precompilation, find an initial mapping of the circuit onto the hardware\n",
    "circ = precompile(circuit=input_circ, cmap=reduced_coupling_map)\n",
    "graph_b = circuit_interaction_graph(circ)\n",
    "mpl_draw(graph_b, with_labels=True)"
   ]
  },
  {
   "cell_type": "code",
   "execution_count": null,
   "metadata": {},
   "outputs": [],
   "source": [
    "input_circ.draw(output='mpl')"
   ]
  },
  {
   "cell_type": "code",
   "execution_count": null,
   "metadata": {},
   "outputs": [],
   "source": [
    "circ.draw(output='mpl')"
   ]
  },
  {
   "cell_type": "code",
   "execution_count": null,
   "metadata": {},
   "outputs": [],
   "source": [
    "# benchmarking runtime for octagonal coupling graph\n",
    "\n",
    "# parameters\n",
    "graph_type = 'octagonal'\n",
    "size_target_graph_list = np.arange(10, 110, 5) # number of qubits in a row/column of the target graph\n",
    "# size_target_graph_list = np.arange(20, 75, 5) # number of qubits in a row/column of the target graph\n",
    "\n",
    "octagonal_VF2_runtime_list = []\n",
    "octagonal_VF2pp_runtime_list = []\n",
    "octagonal_node_count = []\n",
    "octagonal_search_space_runtime_list = []\n",
    "\n",
    "for size_target_graph in size_target_graph_list:\n",
    "    # define the graph of the circuit and the hardware\n",
    "    graph_a, node_dict, node_dict_reverse = set_octagonal_graph(size_target_graph, size_target_graph)\n",
    "\n",
    "    # number of qubits\n",
    "    num_qubit_hardware = graph_a.num_nodes() # number of qubits in the hardware\n",
    "    octagonal_node_count.append(num_qubit_hardware)\n",
    "\n",
    "    # measure runtime of VF2 for matching these two graphs\n",
    "    start_time = time.time()\n",
    "    layouts = mapping_VF2(graph_a, graph_b, circ)\n",
    "    runtime = time.time() - start_time\n",
    "    print(f'Qubits in the hardware: {num_qubit_hardware}, qubits in the circuit: {circ.num_qubits}')\n",
    "    print(f'VF2 runtime: {runtime} seconds')\n",
    "    octagonal_VF2_runtime_list.append(runtime)\n",
    "\n",
    "    # measure runtime of VF2++ for matching these two graphs\n",
    "    start_time = time.time()\n",
    "    layouts = mapping_VF2pp(graph_a, graph_b, circ)\n",
    "    runtime = time.time() - start_time\n",
    "    print(f'VF2++ runtime: {runtime} seconds')\n",
    "    octagonal_VF2pp_runtime_list.append(runtime)\n",
    "\n",
    "    # measure runtime of the octagonal-specific subgraph matching algorithm for the same task as above\n",
    "    start_time = time.time()\n",
    "    center_generating_set = generating_set([size_target_graph, size_target_graph], graph_type, node_dict_reverse)\n",
    "    # layouts = symmetry_based_subgraph_matching(graph_a, graph_b, node_dict, node_dict_reverse, center_generating_set)\n",
    "    layouts = symmetry_based_subgraph_matching_optimized(graph_a, graph_b, node_dict, node_dict_reverse, center_generating_set, graph_type, [size_target_graph, size_target_graph])\n",
    "    runtime = time.time() - start_time\n",
    "    print(f'Symmetry-Based Subgraph Matching runtime: {runtime} seconds')\n",
    "    octagonal_search_space_runtime_list.append(runtime)\n",
    "    print('\\n')\n",
    "\n",
    "# save results\n",
    "np.save(f'data/subgraph_matching_{graph_type}.npy', [np.array(octagonal_node_count), np.array(octagonal_VF2_runtime_list), np.array(octagonal_VF2pp_runtime_list), np.array(octagonal_search_space_runtime_list)])"
   ]
  },
  {
   "cell_type": "code",
   "execution_count": null,
   "metadata": {},
   "outputs": [],
   "source": [
    "import matplotlib.pyplot as plt\n",
    "import matplotlib\n",
    "\n",
    "# plotting parameters\n",
    "linewidth = 2\n",
    "markersize = 5\n",
    "marker = 'o'\n",
    "colors = ['orangered', 'royalblue', 'purple']\n",
    "labels = ['VF2', 'VF2++', 'SBSM (this work)']\n",
    "plt.rcParams.update({'font.size': 10}) # font size\n",
    "matplotlib.rc('font', family='Arial') # font style\n",
    "fig_width = 8.6 # width of figure in cm\n",
    "fig_height = 8 # height of figure in cm\n",
    "figsize = (fig_width/2.54, fig_height/2.54)\n",
    "dpi = 1200\n",
    "\n",
    "# plot runtime versus number of qubits\n",
    "x = octagonal_node_count\n",
    "y1 = octagonal_VF2_runtime_list\n",
    "y2 = octagonal_VF2pp_runtime_list\n",
    "y3 = octagonal_search_space_runtime_list\n",
    "\n",
    "plt.figure(figsize=figsize)\n",
    "plt.plot(x, y1, label=labels[0], linewidth=linewidth, marker=marker, markersize=markersize, color=colors[0])\n",
    "plt.plot(x, y2, label=labels[1], linewidth=linewidth, marker=marker, markersize=markersize, color=colors[1])\n",
    "plt.plot(x, y3, label=labels[2], linewidth=linewidth, marker=marker, markersize=markersize, color=colors[2])\n",
    "\n",
    "plt.title(f'search time for finding all isomorphisms')\n",
    "plt.xlabel('number of qubits in the hardware')\n",
    "plt.ylabel('runtime (seconds)')\n",
    "\n",
    "plt.legend()\n",
    "plt.tight_layout()\n",
    "\n",
    "plt.savefig(f'figures/subgraph_matching_runtime_{graph_type}_hardware.png', dpi=dpi)\n",
    "plt.show()"
   ]
  }
 ],
 "metadata": {
  "kernelspec": {
   "display_name": "Qiskit_env",
   "language": "python",
   "name": "python3"
  },
  "language_info": {
   "codemirror_mode": {
    "name": "ipython",
    "version": 3
   },
   "file_extension": ".py",
   "mimetype": "text/x-python",
   "name": "python",
   "nbconvert_exporter": "python",
   "pygments_lexer": "ipython3",
   "version": "3.11.3"
  },
  "orig_nbformat": 4
 },
 "nbformat": 4,
 "nbformat_minor": 2
}
