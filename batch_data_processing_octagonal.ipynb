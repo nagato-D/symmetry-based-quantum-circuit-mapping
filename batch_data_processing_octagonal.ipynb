{
 "cells": [
  {
   "cell_type": "markdown",
   "metadata": {},
   "source": [
    "# Process Experiment Data\n",
    "---\n",
    "### Basic Information\n",
    "**Description:** This script converts the results of numerical experiments (octagonal structure) to csv files."
   ]
  },
  {
   "cell_type": "code",
   "execution_count": 1,
   "metadata": {},
   "outputs": [],
   "source": [
    "import numpy as np\n",
    "import pandas as pd"
   ]
  },
  {
   "cell_type": "code",
   "execution_count": 2,
   "metadata": {},
   "outputs": [],
   "source": [
    "# load data\n",
    "data_circuit_mapping = np.load('data/circuit_mapping_octagonal.npy')\n",
    "qubit_count_list = data_circuit_mapping[0]\n",
    "SBCM_runtime_list = data_circuit_mapping[1]\n",
    "Mapomatic_runtime_list = data_circuit_mapping[2]\n",
    "\n",
    "# convert to csv file and save\n",
    "columns = ['num_physical_qubits', 'symmetry_runtime', 'Mapomatic_runtime', 'fast_scoring_runtime', 'scoring_runtime']\n",
    "data = np.column_stack([np.transpose(data_circuit_mapping)])\n",
    "\n",
    "# create a pandas dataframe\n",
    "df = pd.DataFrame(data, columns=columns)\n",
    "\n",
    "# save the dataframe to a csv file\n",
    "csv_filename = 'circuit_mapping_octagonal.csv'\n",
    "df.to_csv(f'data/{csv_filename}', index=False, sep=' ')"
   ]
  },
  {
   "cell_type": "code",
   "execution_count": 4,
   "metadata": {},
   "outputs": [],
   "source": [
    "# load data\n",
    "data_subgraph_matching = np.load('data/subgraph_matching_octagonal.npy')\n",
    "\n",
    "qubit_count_list = data_subgraph_matching[0]\n",
    "VF2_runtime_list = data_subgraph_matching[1]\n",
    "VF2pp_runtime_list = data_subgraph_matching[2]\n",
    "SBSM_runtime_list = data_subgraph_matching[3]\n",
    "\n",
    "# convert to csv file and save\n",
    "columns = ['num_physical_qubits', 'VF2_runtime', 'VF2pp_runtime', 'symmetry_matching_runtime']\n",
    "data = np.column_stack([np.transpose(data_subgraph_matching)])\n",
    "\n",
    "# create a pandas dataframe\n",
    "df = pd.DataFrame(data, columns=columns)\n",
    "\n",
    "# save the dataframe to a csv file\n",
    "csv_filename = 'subgraph_matching_octagonal.csv'\n",
    "df.to_csv(f'data/{csv_filename}', index=False, sep=' ')"
   ]
  }
 ],
 "metadata": {
  "kernelspec": {
   "display_name": "Qiskit_env",
   "language": "python",
   "name": "python3"
  },
  "language_info": {
   "codemirror_mode": {
    "name": "ipython",
    "version": 3
   },
   "file_extension": ".py",
   "mimetype": "text/x-python",
   "name": "python",
   "nbconvert_exporter": "python",
   "pygments_lexer": "ipython3",
   "version": "3.11.3"
  },
  "orig_nbformat": 4
 },
 "nbformat": 4,
 "nbformat_minor": 2
}
